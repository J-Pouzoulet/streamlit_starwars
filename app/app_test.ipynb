{
 "cells": [
  {
   "cell_type": "code",
   "execution_count": 1,
   "metadata": {},
   "outputs": [],
   "source": [
    "import streamlit as st\n",
    "import pandas as pd\n",
    "import numpy as np\n",
    "import requests as rq\n",
    "import json"
   ]
  },
  {
   "cell_type": "code",
   "execution_count": 58,
   "metadata": {},
   "outputs": [],
   "source": [
    "#st.title(f'Hello *Mother Fucker!!!* :sunglasses:')\n",
    "option ='species'\n",
    "text_input = 'a'\n",
    "\n",
    "res = rq.get(f'https://swapi.dev/api/{option}/?search={text_input}').json()"
   ]
  },
  {
   "cell_type": "code",
   "execution_count": 41,
   "metadata": {},
   "outputs": [
    {
     "data": {
      "text/plain": [
       "'https://swapi.dev/api/species/?search=a&page=2'"
      ]
     },
     "execution_count": 41,
     "metadata": {},
     "output_type": "execute_result"
    }
   ],
   "source": [
    "res['next']"
   ]
  },
  {
   "cell_type": "code",
   "execution_count": 23,
   "metadata": {},
   "outputs": [
    {
     "data": {
      "text/plain": [
       "10"
      ]
     },
     "execution_count": 23,
     "metadata": {},
     "output_type": "execute_result"
    }
   ],
   "source": [
    "len(res['results'])"
   ]
  },
  {
   "cell_type": "code",
   "execution_count": 59,
   "metadata": {},
   "outputs": [],
   "source": [
    "def get_data(res, res_name, dict_name, count):\n",
    "    for i in range(len(res['results'])):\n",
    "        dict_name[res['results'][i]['name']] = [count, res['results'][i]]\n",
    "        res_name.append(res['results'][i]['name'])\n",
    "        count += 1\n",
    "    return res_name, dict_name, count   "
   ]
  },
  {
   "cell_type": "code",
   "execution_count": 60,
   "metadata": {},
   "outputs": [],
   "source": [
    "res_name = ['']\n",
    "dict_name = {}\n",
    "count = 0\n",
    "\n",
    "res_name, dict_name, count = get_data(res, res_name, dict_name, count)\n",
    "\n",
    "while res['next'] != None:\n",
    "    res = rq.get(res['next']).json()\n",
    "    res_name, dict_name, count = get_data(res, res_name, dict_name, count)\n"
   ]
  },
  {
   "cell_type": "code",
   "execution_count": 44,
   "metadata": {},
   "outputs": [],
   "source": [
    "res_name, dict_name, count = get_data(res, res_name, dict_name, count)"
   ]
  },
  {
   "cell_type": "code",
   "execution_count": 61,
   "metadata": {},
   "outputs": [
    {
     "data": {
      "text/plain": [
       "25"
      ]
     },
     "execution_count": 61,
     "metadata": {},
     "output_type": "execute_result"
    }
   ],
   "source": [
    "count"
   ]
  },
  {
   "cell_type": "code",
   "execution_count": 63,
   "metadata": {},
   "outputs": [
    {
     "data": {
      "text/plain": [
       "['',\n",
       " 'Human',\n",
       " 'Rodian',\n",
       " \"Yoda's species\",\n",
       " 'Trandoshan',\n",
       " 'Mon Calamari',\n",
       " 'Sullustan',\n",
       " 'Neimodian',\n",
       " 'Gungan',\n",
       " 'Toydarian',\n",
       " 'Aleena',\n",
       " 'Cerean',\n",
       " 'Nautolan',\n",
       " 'Zabrak',\n",
       " 'Tholothian',\n",
       " 'Quermian',\n",
       " 'Chagrian',\n",
       " 'Geonosian',\n",
       " 'Mirialan',\n",
       " 'Clawdite',\n",
       " 'Besalisk',\n",
       " 'Kaminoan',\n",
       " 'Skakoan',\n",
       " 'Togruta',\n",
       " 'Kaleesh',\n",
       " \"Pau'an\"]"
      ]
     },
     "execution_count": 63,
     "metadata": {},
     "output_type": "execute_result"
    }
   ],
   "source": [
    "res_name"
   ]
  },
  {
   "cell_type": "code",
   "execution_count": 36,
   "metadata": {},
   "outputs": [
    {
     "data": {
      "text/plain": [
       "{'Human': [0,\n",
       "  {'name': 'Human',\n",
       "   'classification': 'mammal',\n",
       "   'designation': 'sentient',\n",
       "   'average_height': '180',\n",
       "   'skin_colors': 'caucasian, black, asian, hispanic',\n",
       "   'hair_colors': 'blonde, brown, black, red',\n",
       "   'eye_colors': 'brown, blue, green, hazel, grey, amber',\n",
       "   'average_lifespan': '120',\n",
       "   'homeworld': 'https://swapi.dev/api/planets/9/',\n",
       "   'language': 'Galactic Basic',\n",
       "   'people': ['https://swapi.dev/api/people/66/',\n",
       "    'https://swapi.dev/api/people/67/',\n",
       "    'https://swapi.dev/api/people/68/',\n",
       "    'https://swapi.dev/api/people/74/'],\n",
       "   'films': ['https://swapi.dev/api/films/1/',\n",
       "    'https://swapi.dev/api/films/2/',\n",
       "    'https://swapi.dev/api/films/3/',\n",
       "    'https://swapi.dev/api/films/4/',\n",
       "    'https://swapi.dev/api/films/5/',\n",
       "    'https://swapi.dev/api/films/6/'],\n",
       "   'created': '2014-12-10T13:52:11.567000Z',\n",
       "   'edited': '2014-12-20T21:36:42.136000Z',\n",
       "   'url': 'https://swapi.dev/api/species/1/'}],\n",
       " 'Rodian': [1,\n",
       "  {'name': 'Rodian',\n",
       "   'classification': 'sentient',\n",
       "   'designation': 'reptilian',\n",
       "   'average_height': '170',\n",
       "   'skin_colors': 'green, blue',\n",
       "   'hair_colors': 'n/a',\n",
       "   'eye_colors': 'black',\n",
       "   'average_lifespan': 'unknown',\n",
       "   'homeworld': 'https://swapi.dev/api/planets/23/',\n",
       "   'language': 'Galatic Basic',\n",
       "   'people': ['https://swapi.dev/api/people/15/'],\n",
       "   'films': ['https://swapi.dev/api/films/1/'],\n",
       "   'created': '2014-12-10T17:05:26.471000Z',\n",
       "   'edited': '2014-12-20T21:36:42.144000Z',\n",
       "   'url': 'https://swapi.dev/api/species/4/'}],\n",
       " \"Yoda's species\": [2,\n",
       "  {'name': \"Yoda's species\",\n",
       "   'classification': 'mammal',\n",
       "   'designation': 'sentient',\n",
       "   'average_height': '66',\n",
       "   'skin_colors': 'green, yellow',\n",
       "   'hair_colors': 'brown, white',\n",
       "   'eye_colors': 'brown, green, yellow',\n",
       "   'average_lifespan': '900',\n",
       "   'homeworld': 'https://swapi.dev/api/planets/28/',\n",
       "   'language': 'Galactic basic',\n",
       "   'people': ['https://swapi.dev/api/people/20/'],\n",
       "   'films': ['https://swapi.dev/api/films/2/',\n",
       "    'https://swapi.dev/api/films/3/',\n",
       "    'https://swapi.dev/api/films/4/',\n",
       "    'https://swapi.dev/api/films/5/',\n",
       "    'https://swapi.dev/api/films/6/'],\n",
       "   'created': '2014-12-15T12:27:22.877000Z',\n",
       "   'edited': '2014-12-20T21:36:42.148000Z',\n",
       "   'url': 'https://swapi.dev/api/species/6/'}],\n",
       " 'Trandoshan': [3,\n",
       "  {'name': 'Trandoshan',\n",
       "   'classification': 'reptile',\n",
       "   'designation': 'sentient',\n",
       "   'average_height': '200',\n",
       "   'skin_colors': 'brown, green',\n",
       "   'hair_colors': 'none',\n",
       "   'eye_colors': 'yellow, orange',\n",
       "   'average_lifespan': 'unknown',\n",
       "   'homeworld': 'https://swapi.dev/api/planets/29/',\n",
       "   'language': 'Dosh',\n",
       "   'people': ['https://swapi.dev/api/people/24/'],\n",
       "   'films': ['https://swapi.dev/api/films/2/'],\n",
       "   'created': '2014-12-15T13:07:47.704000Z',\n",
       "   'edited': '2014-12-20T21:36:42.151000Z',\n",
       "   'url': 'https://swapi.dev/api/species/7/'}],\n",
       " 'Mon Calamari': [4,\n",
       "  {'name': 'Mon Calamari',\n",
       "   'classification': 'amphibian',\n",
       "   'designation': 'sentient',\n",
       "   'average_height': '160',\n",
       "   'skin_colors': 'red, blue, brown, magenta',\n",
       "   'hair_colors': 'none',\n",
       "   'eye_colors': 'yellow',\n",
       "   'average_lifespan': 'unknown',\n",
       "   'homeworld': 'https://swapi.dev/api/planets/31/',\n",
       "   'language': 'Mon Calamarian',\n",
       "   'people': ['https://swapi.dev/api/people/27/'],\n",
       "   'films': ['https://swapi.dev/api/films/3/'],\n",
       "   'created': '2014-12-18T11:09:52.263000Z',\n",
       "   'edited': '2014-12-20T21:36:42.153000Z',\n",
       "   'url': 'https://swapi.dev/api/species/8/'}],\n",
       " 'Sullustan': [5,\n",
       "  {'name': 'Sullustan',\n",
       "   'classification': 'mammal',\n",
       "   'designation': 'sentient',\n",
       "   'average_height': '180',\n",
       "   'skin_colors': 'pale',\n",
       "   'hair_colors': 'none',\n",
       "   'eye_colors': 'black',\n",
       "   'average_lifespan': 'unknown',\n",
       "   'homeworld': 'https://swapi.dev/api/planets/33/',\n",
       "   'language': 'Sullutese',\n",
       "   'people': ['https://swapi.dev/api/people/31/'],\n",
       "   'films': ['https://swapi.dev/api/films/3/'],\n",
       "   'created': '2014-12-18T11:26:20.103000Z',\n",
       "   'edited': '2014-12-20T21:36:42.157000Z',\n",
       "   'url': 'https://swapi.dev/api/species/10/'}],\n",
       " 'Neimodian': [6,\n",
       "  {'name': 'Neimodian',\n",
       "   'classification': 'unknown',\n",
       "   'designation': 'sentient',\n",
       "   'average_height': '180',\n",
       "   'skin_colors': 'grey, green',\n",
       "   'hair_colors': 'none',\n",
       "   'eye_colors': 'red, pink',\n",
       "   'average_lifespan': 'unknown',\n",
       "   'homeworld': 'https://swapi.dev/api/planets/18/',\n",
       "   'language': 'Neimoidia',\n",
       "   'people': ['https://swapi.dev/api/people/33/'],\n",
       "   'films': ['https://swapi.dev/api/films/4/'],\n",
       "   'created': '2014-12-19T17:07:31.319000Z',\n",
       "   'edited': '2014-12-20T21:36:42.160000Z',\n",
       "   'url': 'https://swapi.dev/api/species/11/'}],\n",
       " 'Gungan': [7,\n",
       "  {'name': 'Gungan',\n",
       "   'classification': 'amphibian',\n",
       "   'designation': 'sentient',\n",
       "   'average_height': '190',\n",
       "   'skin_colors': 'brown, green',\n",
       "   'hair_colors': 'none',\n",
       "   'eye_colors': 'orange',\n",
       "   'average_lifespan': 'unknown',\n",
       "   'homeworld': 'https://swapi.dev/api/planets/8/',\n",
       "   'language': 'Gungan basic',\n",
       "   'people': ['https://swapi.dev/api/people/36/',\n",
       "    'https://swapi.dev/api/people/37/',\n",
       "    'https://swapi.dev/api/people/38/'],\n",
       "   'films': ['https://swapi.dev/api/films/4/',\n",
       "    'https://swapi.dev/api/films/5/'],\n",
       "   'created': '2014-12-19T17:30:37.341000Z',\n",
       "   'edited': '2014-12-20T21:36:42.163000Z',\n",
       "   'url': 'https://swapi.dev/api/species/12/'}],\n",
       " 'Toydarian': [8,\n",
       "  {'name': 'Toydarian',\n",
       "   'classification': 'mammal',\n",
       "   'designation': 'sentient',\n",
       "   'average_height': '120',\n",
       "   'skin_colors': 'blue, green, grey',\n",
       "   'hair_colors': 'none',\n",
       "   'eye_colors': 'yellow',\n",
       "   'average_lifespan': '91',\n",
       "   'homeworld': 'https://swapi.dev/api/planets/34/',\n",
       "   'language': 'Toydarian',\n",
       "   'people': ['https://swapi.dev/api/people/40/'],\n",
       "   'films': ['https://swapi.dev/api/films/4/',\n",
       "    'https://swapi.dev/api/films/5/'],\n",
       "   'created': '2014-12-19T17:48:56.893000Z',\n",
       "   'edited': '2014-12-20T21:36:42.165000Z',\n",
       "   'url': 'https://swapi.dev/api/species/13/'}],\n",
       " 'Aleena': [9,\n",
       "  {'name': 'Aleena',\n",
       "   'classification': 'reptile',\n",
       "   'designation': 'sentient',\n",
       "   'average_height': '80',\n",
       "   'skin_colors': 'blue, gray',\n",
       "   'hair_colors': 'none',\n",
       "   'eye_colors': 'unknown',\n",
       "   'average_lifespan': '79',\n",
       "   'homeworld': 'https://swapi.dev/api/planets/38/',\n",
       "   'language': 'Aleena',\n",
       "   'people': ['https://swapi.dev/api/people/47/'],\n",
       "   'films': ['https://swapi.dev/api/films/4/'],\n",
       "   'created': '2014-12-20T09:53:16.481000Z',\n",
       "   'edited': '2014-12-20T21:36:42.171000Z',\n",
       "   'url': 'https://swapi.dev/api/species/16/'}]}"
      ]
     },
     "execution_count": 36,
     "metadata": {},
     "output_type": "execute_result"
    }
   ],
   "source": [
    "dict_name"
   ]
  },
  {
   "cell_type": "code",
   "execution_count": 94,
   "metadata": {},
   "outputs": [
    {
     "name": "stdout",
     "output_type": "stream",
     "text": [
      "name : Luke Skywalker\n",
      "height : 172\n",
      "mass : 77\n",
      "hair_color : blond\n",
      "skin_color : fair\n",
      "eye_color : blue\n",
      "birth_year : 19BBY\n",
      "gender : male\n",
      "homeworld : https://swapi.dev/api/planets/1/\n",
      "films : ['https://swapi.dev/api/films/1/', 'https://swapi.dev/api/films/2/', 'https://swapi.dev/api/films/3/', 'https://swapi.dev/api/films/6/']\n",
      "species : []\n",
      "vehicles : ['https://swapi.dev/api/vehicles/14/', 'https://swapi.dev/api/vehicles/30/']\n",
      "starships : ['https://swapi.dev/api/starships/12/', 'https://swapi.dev/api/starships/22/']\n",
      "created : 2014-12-09T13:50:51.644000Z\n",
      "edited : 2014-12-20T21:17:56.891000Z\n",
      "url : https://swapi.dev/api/people/1/\n"
     ]
    }
   ],
   "source": [
    "for item in res['results'][dict_name['Luke Skywalker']].keys():\n",
    "    obj = res['results'][dict_name['Luke Skywalker']][item]\n",
    "    print(f'{item} : {obj}')"
   ]
  },
  {
   "cell_type": "code",
   "execution_count": 90,
   "metadata": {},
   "outputs": [
    {
     "data": {
      "text/plain": [
       "'Luke Skywalker'"
      ]
     },
     "execution_count": 90,
     "metadata": {},
     "output_type": "execute_result"
    }
   ],
   "source": [
    "res['results'][dict_name['Luke Skywalker']]['name']"
   ]
  },
  {
   "cell_type": "code",
   "execution_count": 74,
   "metadata": {},
   "outputs": [
    {
     "data": {
      "text/plain": [
       "10"
      ]
     },
     "execution_count": 74,
     "metadata": {},
     "output_type": "execute_result"
    }
   ],
   "source": [
    "len(res['results'])"
   ]
  },
  {
   "cell_type": "code",
   "execution_count": 72,
   "metadata": {},
   "outputs": [
    {
     "data": {
      "text/plain": [
       "82"
      ]
     },
     "execution_count": 72,
     "metadata": {},
     "output_type": "execute_result"
    }
   ],
   "source": [
    "res['count']"
   ]
  },
  {
   "cell_type": "code",
   "execution_count": 73,
   "metadata": {},
   "outputs": [
    {
     "ename": "IndexError",
     "evalue": "list index out of range",
     "output_type": "error",
     "traceback": [
      "\u001b[0;31m---------------------------------------------------------------------------\u001b[0m",
      "\u001b[0;31mIndexError\u001b[0m                                Traceback (most recent call last)",
      "Cell \u001b[0;32mIn [73], line 5\u001b[0m\n\u001b[1;32m      3\u001b[0m count \u001b[39m=\u001b[39m \u001b[39m0\u001b[39m\n\u001b[1;32m      4\u001b[0m \u001b[39mfor\u001b[39;00m i \u001b[39min\u001b[39;00m \u001b[39mrange\u001b[39m(res[\u001b[39m'\u001b[39m\u001b[39mcount\u001b[39m\u001b[39m'\u001b[39m]):\n\u001b[0;32m----> 5\u001b[0m     dict_name[res[\u001b[39m'\u001b[39;49m\u001b[39mresults\u001b[39;49m\u001b[39m'\u001b[39;49m][i][\u001b[39m'\u001b[39m\u001b[39mname\u001b[39m\u001b[39m'\u001b[39m]] \u001b[39m=\u001b[39m count\n\u001b[1;32m      6\u001b[0m     res_name\u001b[39m.\u001b[39mappend(res[\u001b[39m'\u001b[39m\u001b[39mresults\u001b[39m\u001b[39m'\u001b[39m][i][\u001b[39m'\u001b[39m\u001b[39mname\u001b[39m\u001b[39m'\u001b[39m])\n\u001b[1;32m      7\u001b[0m     count \u001b[39m+\u001b[39m\u001b[39m=\u001b[39m \u001b[39m1\u001b[39m\n",
      "\u001b[0;31mIndexError\u001b[0m: list index out of range"
     ]
    }
   ],
   "source": [
    "res_name = ['']\n",
    "dict_name = {}\n",
    "count = 0\n",
    "for i in range(res['count']):\n",
    "    dict_name[res['results'][i]['name']] = count\n",
    "    res_name.append(res['results'][i]['name'])\n",
    "    count += 1"
   ]
  },
  {
   "cell_type": "code",
   "execution_count": 62,
   "metadata": {},
   "outputs": [
    {
     "data": {
      "text/plain": [
       "['', 'Luke Skywalker', 'Anakin Skywalker', 'Shmi Skywalker']"
      ]
     },
     "execution_count": 62,
     "metadata": {},
     "output_type": "execute_result"
    }
   ],
   "source": [
    "res_name"
   ]
  },
  {
   "cell_type": "code",
   "execution_count": 63,
   "metadata": {},
   "outputs": [
    {
     "data": {
      "text/plain": [
       "{'Luke Skywalker': 0, 'Anakin Skywalker': 1, 'Shmi Skywalker': 2}"
      ]
     },
     "execution_count": 63,
     "metadata": {},
     "output_type": "execute_result"
    }
   ],
   "source": [
    "dict_name"
   ]
  },
  {
   "cell_type": "code",
   "execution_count": 65,
   "metadata": {},
   "outputs": [
    {
     "ename": "ValueError",
     "evalue": "All arrays must be of the same length",
     "output_type": "error",
     "traceback": [
      "\u001b[0;31m---------------------------------------------------------------------------\u001b[0m",
      "\u001b[0;31mValueError\u001b[0m                                Traceback (most recent call last)",
      "Cell \u001b[0;32mIn [65], line 1\u001b[0m\n\u001b[0;32m----> 1\u001b[0m pd\u001b[39m.\u001b[39;49mDataFrame(res[\u001b[39m'\u001b[39;49m\u001b[39mresults\u001b[39;49m\u001b[39m'\u001b[39;49m][dict_name[\u001b[39m'\u001b[39;49m\u001b[39mLuke Skywalker\u001b[39;49m\u001b[39m'\u001b[39;49m]])\n",
      "File \u001b[0;32m~/.pyenv/versions/3.8.12/envs/simplon/lib/python3.8/site-packages/pandas/core/frame.py:636\u001b[0m, in \u001b[0;36mDataFrame.__init__\u001b[0;34m(self, data, index, columns, dtype, copy)\u001b[0m\n\u001b[1;32m    630\u001b[0m     mgr \u001b[39m=\u001b[39m \u001b[39mself\u001b[39m\u001b[39m.\u001b[39m_init_mgr(\n\u001b[1;32m    631\u001b[0m         data, axes\u001b[39m=\u001b[39m{\u001b[39m\"\u001b[39m\u001b[39mindex\u001b[39m\u001b[39m\"\u001b[39m: index, \u001b[39m\"\u001b[39m\u001b[39mcolumns\u001b[39m\u001b[39m\"\u001b[39m: columns}, dtype\u001b[39m=\u001b[39mdtype, copy\u001b[39m=\u001b[39mcopy\n\u001b[1;32m    632\u001b[0m     )\n\u001b[1;32m    634\u001b[0m \u001b[39melif\u001b[39;00m \u001b[39misinstance\u001b[39m(data, \u001b[39mdict\u001b[39m):\n\u001b[1;32m    635\u001b[0m     \u001b[39m# GH#38939 de facto copy defaults to False only in non-dict cases\u001b[39;00m\n\u001b[0;32m--> 636\u001b[0m     mgr \u001b[39m=\u001b[39m dict_to_mgr(data, index, columns, dtype\u001b[39m=\u001b[39;49mdtype, copy\u001b[39m=\u001b[39;49mcopy, typ\u001b[39m=\u001b[39;49mmanager)\n\u001b[1;32m    637\u001b[0m \u001b[39melif\u001b[39;00m \u001b[39misinstance\u001b[39m(data, ma\u001b[39m.\u001b[39mMaskedArray):\n\u001b[1;32m    638\u001b[0m     \u001b[39mimport\u001b[39;00m \u001b[39mnumpy\u001b[39;00m\u001b[39m.\u001b[39;00m\u001b[39mma\u001b[39;00m\u001b[39m.\u001b[39;00m\u001b[39mmrecords\u001b[39;00m \u001b[39mas\u001b[39;00m \u001b[39mmrecords\u001b[39;00m\n",
      "File \u001b[0;32m~/.pyenv/versions/3.8.12/envs/simplon/lib/python3.8/site-packages/pandas/core/internals/construction.py:502\u001b[0m, in \u001b[0;36mdict_to_mgr\u001b[0;34m(data, index, columns, dtype, typ, copy)\u001b[0m\n\u001b[1;32m    494\u001b[0m     arrays \u001b[39m=\u001b[39m [\n\u001b[1;32m    495\u001b[0m         x\n\u001b[1;32m    496\u001b[0m         \u001b[39mif\u001b[39;00m \u001b[39mnot\u001b[39;00m \u001b[39mhasattr\u001b[39m(x, \u001b[39m\"\u001b[39m\u001b[39mdtype\u001b[39m\u001b[39m\"\u001b[39m) \u001b[39mor\u001b[39;00m \u001b[39mnot\u001b[39;00m \u001b[39misinstance\u001b[39m(x\u001b[39m.\u001b[39mdtype, ExtensionDtype)\n\u001b[1;32m    497\u001b[0m         \u001b[39melse\u001b[39;00m x\u001b[39m.\u001b[39mcopy()\n\u001b[1;32m    498\u001b[0m         \u001b[39mfor\u001b[39;00m x \u001b[39min\u001b[39;00m arrays\n\u001b[1;32m    499\u001b[0m     ]\n\u001b[1;32m    500\u001b[0m     \u001b[39m# TODO: can we get rid of the dt64tz special case above?\u001b[39;00m\n\u001b[0;32m--> 502\u001b[0m \u001b[39mreturn\u001b[39;00m arrays_to_mgr(arrays, columns, index, dtype\u001b[39m=\u001b[39;49mdtype, typ\u001b[39m=\u001b[39;49mtyp, consolidate\u001b[39m=\u001b[39;49mcopy)\n",
      "File \u001b[0;32m~/.pyenv/versions/3.8.12/envs/simplon/lib/python3.8/site-packages/pandas/core/internals/construction.py:120\u001b[0m, in \u001b[0;36marrays_to_mgr\u001b[0;34m(arrays, columns, index, dtype, verify_integrity, typ, consolidate)\u001b[0m\n\u001b[1;32m    117\u001b[0m \u001b[39mif\u001b[39;00m verify_integrity:\n\u001b[1;32m    118\u001b[0m     \u001b[39m# figure out the index, if necessary\u001b[39;00m\n\u001b[1;32m    119\u001b[0m     \u001b[39mif\u001b[39;00m index \u001b[39mis\u001b[39;00m \u001b[39mNone\u001b[39;00m:\n\u001b[0;32m--> 120\u001b[0m         index \u001b[39m=\u001b[39m _extract_index(arrays)\n\u001b[1;32m    121\u001b[0m     \u001b[39melse\u001b[39;00m:\n\u001b[1;32m    122\u001b[0m         index \u001b[39m=\u001b[39m ensure_index(index)\n",
      "File \u001b[0;32m~/.pyenv/versions/3.8.12/envs/simplon/lib/python3.8/site-packages/pandas/core/internals/construction.py:674\u001b[0m, in \u001b[0;36m_extract_index\u001b[0;34m(data)\u001b[0m\n\u001b[1;32m    672\u001b[0m lengths \u001b[39m=\u001b[39m \u001b[39mlist\u001b[39m(\u001b[39mset\u001b[39m(raw_lengths))\n\u001b[1;32m    673\u001b[0m \u001b[39mif\u001b[39;00m \u001b[39mlen\u001b[39m(lengths) \u001b[39m>\u001b[39m \u001b[39m1\u001b[39m:\n\u001b[0;32m--> 674\u001b[0m     \u001b[39mraise\u001b[39;00m \u001b[39mValueError\u001b[39;00m(\u001b[39m\"\u001b[39m\u001b[39mAll arrays must be of the same length\u001b[39m\u001b[39m\"\u001b[39m)\n\u001b[1;32m    676\u001b[0m \u001b[39mif\u001b[39;00m have_dicts:\n\u001b[1;32m    677\u001b[0m     \u001b[39mraise\u001b[39;00m \u001b[39mValueError\u001b[39;00m(\n\u001b[1;32m    678\u001b[0m         \u001b[39m\"\u001b[39m\u001b[39mMixing dicts with non-Series may lead to ambiguous ordering.\u001b[39m\u001b[39m\"\u001b[39m\n\u001b[1;32m    679\u001b[0m     )\n",
      "\u001b[0;31mValueError\u001b[0m: All arrays must be of the same length"
     ]
    }
   ],
   "source": [
    "pd.DataFrame(res['results'][dict_name['Luke Skywalker']])"
   ]
  },
  {
   "cell_type": "code",
   "execution_count": 96,
   "metadata": {},
   "outputs": [
    {
     "name": "stdout",
     "output_type": "stream",
     "text": [
      "\u001b[31mERROR: Could not find a version that satisfies the requirement PIL (from versions: none)\u001b[0m\u001b[31m\n",
      "\u001b[0m\u001b[31mERROR: No matching distribution found for PIL\u001b[0m\u001b[31m\n",
      "\u001b[0mNote: you may need to restart the kernel to use updated packages.\n"
     ]
    }
   ],
   "source": [
    "pip install PIL\n"
   ]
  },
  {
   "cell_type": "code",
   "execution_count": null,
   "metadata": {},
   "outputs": [],
   "source": [
    "import PIL"
   ]
  }
 ],
 "metadata": {
  "kernelspec": {
   "display_name": "simplon",
   "language": "python",
   "name": "python3"
  },
  "language_info": {
   "codemirror_mode": {
    "name": "ipython",
    "version": 3
   },
   "file_extension": ".py",
   "mimetype": "text/x-python",
   "name": "python",
   "nbconvert_exporter": "python",
   "pygments_lexer": "ipython3",
   "version": "3.8.12"
  },
  "orig_nbformat": 4,
  "vscode": {
   "interpreter": {
    "hash": "01d88b12a8943696c7aa3628f107e4b8e99170437b4abb44d70442a2a4526094"
   }
  }
 },
 "nbformat": 4,
 "nbformat_minor": 2
}
